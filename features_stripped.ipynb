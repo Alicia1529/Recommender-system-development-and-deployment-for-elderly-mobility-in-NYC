{
 "metadata": {
  "kernelspec": {
   "display_name": "Python 3",
   "language": "python",
   "name": "python3"
  },
  "language_info": {
   "codemirror_mode": {
    "name": "ipython",
    "version": 3
   },
   "file_extension": ".py",
   "mimetype": "text/x-python",
   "name": "python",
   "nbconvert_exporter": "python",
   "pygments_lexer": "ipython3",
   "version": "3.7.3"
  },
  "name": ""
 },
 "nbformat": 3,
 "nbformat_minor": 0,
 "worksheets": [
  {
   "cells": [
    {
     "cell_type": "code",
     "collapsed": false,
     "input": [
      "import pandas as pd\n",
      "import numpy as np\n",
      "import pickle\n"
     ],
     "language": "python",
     "metadata": {},
     "outputs": []
    },
    {
     "cell_type": "code",
     "collapsed": false,
     "input": [
      "restaurants = pickle.load(open(\"restaurants_nyc.pyc\",\"rb\"))\n",
      "restaurants = pd.DataFrame.from_records(restaurants)\n",
      "print(restaurants.columns)"
     ],
     "language": "python",
     "metadata": {},
     "outputs": []
    },
    {
     "cell_type": "code",
     "collapsed": false,
     "input": [
      "print(type(restaurants.price[4]))\n",
      "print(restaurants.price[4])"
     ],
     "language": "python",
     "metadata": {},
     "outputs": []
    },
    {
     "cell_type": "code",
     "collapsed": false,
     "input": [
      "PRICE2NUM = {\"$\":1,\"$$\":2,\"$$$\":3,\"$$$$\":4}\n",
      "#filter out columns with NaN\n",
      "restaurants= restaurants.dropna(subset=['price'])\n",
      "# restaurants.price = restaurants.price.apply(lambda x: PRICE2NUM[x])"
     ],
     "language": "python",
     "metadata": {},
     "outputs": []
    },
    {
     "cell_type": "code",
     "collapsed": false,
     "input": [
      "restaurants.categories = restaurants.categories.apply(lambda x:list(map(lambda cate:cate[\"alias\"],x)))"
     ],
     "language": "python",
     "metadata": {},
     "outputs": []
    },
    {
     "cell_type": "code",
     "collapsed": false,
     "input": [
      "from functools import reduce\n",
      "categories = restaurants.categories.tolist()\n",
      "categories = reduce(lambda x,y:x+y,categories)\n",
      "print(len(set(categories)))"
     ],
     "language": "python",
     "metadata": {},
     "outputs": []
    },
    {
     "cell_type": "code",
     "collapsed": false,
     "input": [
      "onehot_categories = restaurants.categories.str.join('|').str.get_dummies().add_prefix('category_')\n",
      "print(len(onehot_categories.columns))\n",
      "onehot_categories.style\n"
     ],
     "language": "python",
     "metadata": {},
     "outputs": []
    },
    {
     "cell_type": "code",
     "collapsed": false,
     "input": [
      "print(onehot_categories.columns.unique())"
     ],
     "language": "python",
     "metadata": {},
     "outputs": []
    },
    {
     "cell_type": "code",
     "collapsed": false,
     "input": [
      "restaurant_raw = pd.concat([restaurants[[\"id\", \"rating\", \"review_count\", \"distance\"]], onehot_categories], axis=1)\n",
      "\n"
     ],
     "language": "python",
     "metadata": {},
     "outputs": []
    },
    {
     "cell_type": "code",
     "collapsed": false,
     "input": [
      "from sklearn.decomposition import PCA\n",
      "import pickle\n",
      "WANTED_DIM = 20\n",
      "pca_categories = restaurant_raw[list(restaurant_raw.columns[4:])]\n",
      "pca_model = PCA(n_components=WANTED_DIM)\n",
      "pca_model.fit(pca_categories)\n",
      "filename = \"pca_model.sav\"\n",
      "pickle.dump(pca_model,open(filename,\"wb\"))"
     ],
     "language": "python",
     "metadata": {},
     "outputs": []
    },
    {
     "cell_type": "code",
     "collapsed": false,
     "input": [
      "pca_loaded_model = pickle.load(open(filename, 'rb'))\n",
      "decomposed_categories = pca_loaded_model.transform(pca_categories)\n",
      "decomposed_scores = pca_loaded_model.score(pca_categories)\n",
      "print(\"score\",decomposed_scores)\n",
      "print(decomposed_categories[:2,:])\n"
     ],
     "language": "python",
     "metadata": {},
     "outputs": []
    },
    {
     "cell_type": "code",
     "collapsed": false,
     "input": [
      "#if 2d\n",
      "# import matplotlib.pyplot as plt\n",
      "# plt.scatter(np.transpose(decomposed_categories)[0],np.transpose(decomposed_categories)[1])\n",
      "# filename = \"pca_categories_2d.png\"\n",
      "# plt.title(\"pca_categories_2d.png\")\n",
      "# plt.show()\n"
     ],
     "language": "python",
     "metadata": {},
     "outputs": []
    },
    {
     "cell_type": "code",
     "collapsed": false,
     "input": [
      "#if 3d\n",
      "# import matplotlib.pyplot as plt\n",
      "# plt.scatter(np.transpose(decomposed_categories)[0],np.transpose(decomposed_categories)[1],5,np.transpose(decomposed_categories)[2])\n",
      "# filename = \"pca_categories_3d.png\"\n",
      "# plt.title(\"pca_categories_3d.png\")\n",
      "# plt.show()"
     ],
     "language": "python",
     "metadata": {},
     "outputs": []
    },
    {
     "cell_type": "code",
     "collapsed": false,
     "input": [
      "#Pourcentage of variance in dataset conserveted\n",
      "pca_loaded_model.explained_variance_ratio_.sum()"
     ],
     "language": "python",
     "metadata": {},
     "outputs": []
    },
    {
     "cell_type": "code",
     "collapsed": false,
     "input": [
      "arm_contexts = pd.concat([restaurant_raw[list(restaurant_raw.columns[:4])], pd.DataFrame(decomposed_categories)] ,axis=1)"
     ],
     "language": "python",
     "metadata": {},
     "outputs": []
    },
    {
     "cell_type": "code",
     "collapsed": false,
     "input": [],
     "language": "python",
     "metadata": {},
     "outputs": []
    }
   ],
   "metadata": {}
  }
 ]
}
